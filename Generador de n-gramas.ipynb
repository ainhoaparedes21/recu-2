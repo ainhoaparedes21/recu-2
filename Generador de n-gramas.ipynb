{
 "cells": [
  {
   "cell_type": "code",
   "execution_count": 4,
   "metadata": {},
   "outputs": [],
   "source": [
    "import re\n",
    "from nltk.util import ngrams\n",
    "\n"
   ]
  },
  {
   "cell_type": "code",
   "execution_count": 17,
   "metadata": {},
   "outputs": [],
   "source": [
    "s = \"\"\"Area del aprendizaje automatico donde gracias a las redes neuronales artificiales obtenemos conocimiento de grandes volumenes de datos\"\"\""
   ]
  },
  {
   "cell_type": "code",
   "execution_count": 18,
   "metadata": {},
   "outputs": [],
   "source": [
    "s = s.lower()\n",
    "s = re.sub(r'[^a-zA-Z0-9\\s]', ' ', s)\n",
    "tokens = [token for token in s.split(\" \") if token != \"\"]\n",
    "output = list(ngrams(tokens, 2))"
   ]
  },
  {
   "cell_type": "code",
   "execution_count": 19,
   "metadata": {},
   "outputs": [
    {
     "data": {
      "text/plain": [
       "[('area', 'del'),\n",
       " ('del', 'aprendizaje'),\n",
       " ('aprendizaje', 'automatico'),\n",
       " ('automatico', 'donde'),\n",
       " ('donde', 'gracias'),\n",
       " ('gracias', 'a'),\n",
       " ('a', 'las'),\n",
       " ('las', 'redes'),\n",
       " ('redes', 'neuronales'),\n",
       " ('neuronales', 'artificiales'),\n",
       " ('artificiales', 'obtenemos'),\n",
       " ('obtenemos', 'conocimiento'),\n",
       " ('conocimiento', 'de'),\n",
       " ('de', 'grandes'),\n",
       " ('grandes', 'volumenes'),\n",
       " ('volumenes', 'de'),\n",
       " ('de', 'datos')]"
      ]
     },
     "execution_count": 19,
     "metadata": {},
     "output_type": "execute_result"
    }
   ],
   "source": [
    "output"
   ]
  },
  {
   "cell_type": "code",
   "execution_count": null,
   "metadata": {},
   "outputs": [],
   "source": []
  }
 ],
 "metadata": {
  "kernelspec": {
   "display_name": "Python 3",
   "language": "python",
   "name": "python3"
  },
  "language_info": {
   "codemirror_mode": {
    "name": "ipython",
    "version": 3
   },
   "file_extension": ".py",
   "mimetype": "text/x-python",
   "name": "python",
   "nbconvert_exporter": "python",
   "pygments_lexer": "ipython3",
   "version": "3.8.5"
  }
 },
 "nbformat": 4,
 "nbformat_minor": 4
}
